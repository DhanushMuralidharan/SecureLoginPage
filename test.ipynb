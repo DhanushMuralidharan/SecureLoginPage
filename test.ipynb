{
 "cells": [
  {
   "cell_type": "code",
   "execution_count": 2,
   "metadata": {},
   "outputs": [],
   "source": [
    "import rsa"
   ]
  },
  {
   "cell_type": "code",
   "execution_count": 32,
   "metadata": {},
   "outputs": [],
   "source": [
    "pubkey,privkey = rsa.newkeys(1024)"
   ]
  },
  {
   "cell_type": "code",
   "execution_count": 34,
   "metadata": {},
   "outputs": [
    {
     "data": {
      "text/plain": [
       "'-----BEGIN RSA PUBLIC KEY-----\\nMIGJAoGBAPWk88iMMFXcBIFr6z1x0mn4M9Ul3Vt1tnvFEzyRoSAzFga+gHhL+ZxZ\\nXXkDIPnndG/Gaj59axeCCZU9lcXCzMMBzMquzfo25CgGOvHUf55uJmVhJG2VuhzI\\nHWmpH46bcQ+sP6W6ZPuDMUnxd8LQiibkoACPE3XLekfrKmQcltT7AgMBAAE=\\n-----END RSA PUBLIC KEY-----\\n'"
      ]
     },
     "execution_count": 34,
     "metadata": {},
     "output_type": "execute_result"
    }
   ],
   "source": [
    "pubkey.save_pkcs1().decode()"
   ]
  },
  {
   "cell_type": "code",
   "execution_count": 4,
   "metadata": {},
   "outputs": [
    {
     "data": {
      "text/plain": [
       "'-----BEGIN RSA PUBLIC KEY-----MIGJAoGBAKxYBOO03DxD4wzPTF6M33nfTF03JOjoCiwxJUM359Z5ABB5iLqVxMOm1zEh4QqFoeyq+8ycAE0Y6gY2ON95JLE3VHtFeaq111LYIIBR8NrU6BBUo0fhAybyKm6cZ01R9pal2yBM1EJuguWAbpVqLDIwTLQ/RnXXdsYCMCjqX7X1AgMBAAE=-----END RSA PUBLIC KEY-----'"
      ]
     },
     "execution_count": 4,
     "metadata": {},
     "output_type": "execute_result"
    }
   ],
   "source": [
    "\"\".join(pubkey.save_pkcs1().decode().splitlines())"
   ]
  },
  {
   "cell_type": "code",
   "execution_count": 25,
   "metadata": {},
   "outputs": [
    {
     "data": {
      "text/plain": [
       "188"
      ]
     },
     "execution_count": 25,
     "metadata": {},
     "output_type": "execute_result"
    }
   ],
   "source": [
    "len(\"\".join(pubkey.save_pkcs1().decode().splitlines()[1:-1]))"
   ]
  },
  {
   "cell_type": "code",
   "execution_count": 9,
   "metadata": {},
   "outputs": [],
   "source": [
    "import base64"
   ]
  },
  {
   "cell_type": "code",
   "execution_count": 13,
   "metadata": {},
   "outputs": [
    {
     "data": {
      "text/plain": [
       "'TUlHSkFvR0JBS3hZQk9PMDNEeEQ0d3pQVEY2TTMzbmZURjAzSk9qb0Npd3hKVU0zNTlaNUFCQjVpTHFWeE1PbTF6RWg0UXFGb2V5cSs4eWNBRTBZNmdZMk9OOTVKTEUzVkh0RmVhcTExMUxZSUlCUjhOclU2QkJVbzBmaEF5YnlLbTZjWjAxUjlwYWwyeUJNMUVKdWd1V0FicFZxTERJd1RMUS9SblhYZHNZQ01DanFYN1gxQWdNQkFBRT0='"
      ]
     },
     "execution_count": 13,
     "metadata": {},
     "output_type": "execute_result"
    }
   ],
   "source": [
    "base64.b64encode('MIGJAoGBAKxYBOO03DxD4wzPTF6M33nfTF03JOjoCiwxJUM359Z5ABB5iLqVxMOm1zEh4QqFoeyq+8ycAE0Y6gY2ON95JLE3VHtFeaq111LYIIBR8NrU6BBUo0fhAybyKm6cZ01R9pal2yBM1EJuguWAbpVqLDIwTLQ/RnXXdsYCMCjqX7X1AgMBAAE='.encode('utf-8')).decode()"
   ]
  },
  {
   "cell_type": "code",
   "execution_count": 15,
   "metadata": {},
   "outputs": [],
   "source": [
    "key = 'MIGfMA0GCSqGSIb3DQEBAQUAA4GNADCBiQKBgQDyKmfJhgAHEK0Yo6qOtFB8sSfYIZBJUyyXi1X7EgkZo3kmMOu6/uT7SwC9EnqbiMySJfAlvB200ZMIk6e1NQrPLZpc5VSuzSQ3NqdXOdbNnhXAUeME8IcsbscK9XP8BxldMhUhIK+3zovI1VCY2kLO6TMwEVvTdH+F1jW/WFkplwIDAQAB'"
   ]
  },
  {
   "cell_type": "code",
   "execution_count": 30,
   "metadata": {},
   "outputs": [
    {
     "data": {
      "text/plain": [
       "288"
      ]
     },
     "execution_count": 30,
     "metadata": {},
     "output_type": "execute_result"
    }
   ],
   "source": [
    "len(base64.b64encode(key.encode()).decode())"
   ]
  },
  {
   "cell_type": "code",
   "execution_count": 31,
   "metadata": {},
   "outputs": [
    {
     "data": {
      "text/plain": [
       "216"
      ]
     },
     "execution_count": 31,
     "metadata": {},
     "output_type": "execute_result"
    }
   ],
   "source": [
    "len(key)"
   ]
  },
  {
   "cell_type": "code",
   "execution_count": 35,
   "metadata": {},
   "outputs": [
    {
     "data": {
      "text/plain": [
       "271"
      ]
     },
     "execution_count": 35,
     "metadata": {},
     "output_type": "execute_result"
    }
   ],
   "source": [
    "len('-----BEGIN PUBLIC KEY-----\\nMIGfMA0GCSqGSIb3DQEBAQUAA4GNADCBiQKBgQDyKmfJhgAHEK0Yo6qOtFB8sSfY\\nIZBJUyyXi1X7EgkZo3kmMOu6/uT7SwC9EnqbiMySJfAlvB200ZMIk6e1NQrPLZpc\\n5VSuzSQ3NqdXOdbNnhXAUeME8IcsbscK9XP8BxldMhUhIK+3zovI1VCY2kLO6TMw\\nEVvTdH+F1jW/WFkplwIDAQAB\\n-----END PUBLIC KEY-----')"
   ]
  },
  {
   "cell_type": "code",
   "execution_count": 36,
   "metadata": {},
   "outputs": [
    {
     "data": {
      "text/plain": [
       "243"
      ]
     },
     "execution_count": 36,
     "metadata": {},
     "output_type": "execute_result"
    }
   ],
   "source": [
    "len('-----BEGIN PUBLIC KEY-----\\nMIGJAoGBAPWk88iMMFXcBIFr6z1x0mn4M9Ul3Vt1tnvFEzyRoSAzFga+gHhL+ZxZ\\nXXkDIPnndG/Gaj59axeCCZU9lcXCzMMBzMquzfo25CgGOvHUf55uJmVhJG2VuhzI\\nHWmpH46bcQ+sP6W6ZPuDMUnxd8LQiibkoACPE3XLekfrKmQcltT7AgMBAAE=\\n-----END PUBLIC KEY-----\\n')"
   ]
  },
  {
   "cell_type": "code",
   "execution_count": null,
   "metadata": {},
   "outputs": [],
   "source": [
    "\"\"\"-----BEGIN PUBLIC KEY-----\\nMIGfMA0GCSqGSIb3DQEBAQUAA4GNADCBiQKBgQDRyjSQcibxFFppIrfJYjJSD+qr\\nhGcJYuKgODwQ/N+NKoP3urot9gFWAIemHn4d/pMvKmio7d8DQNlA5Gs0CtmoHYjA\\nKm2tbr6bzXsurCoCkCfluL2PzMBDCBRVXqFZlbbLu+FimlbAxSDFdyys6nQiH1fZ\\neqcLqtI795YpflaYZwIDAQAB\\n-----END PUBLIC KEY-----\"\"\""
   ]
  },
  {
   "cell_type": "code",
   "execution_count": 48,
   "metadata": {},
   "outputs": [],
   "source": [
    "from Crypto.PublicKey import RSA"
   ]
  },
  {
   "cell_type": "code",
   "execution_count": 50,
   "metadata": {},
   "outputs": [
    {
     "name": "stdout",
     "output_type": "stream",
     "text": [
      "Python 3.9.7\n"
     ]
    }
   ],
   "source": []
  },
  {
   "cell_type": "code",
   "execution_count": 41,
   "metadata": {},
   "outputs": [
    {
     "ename": "TypeError",
     "evalue": "cannot unpack non-iterable RsaKey object",
     "output_type": "error",
     "traceback": [
      "\u001b[0;31m---------------------------------------------------------------------------\u001b[0m",
      "\u001b[0;31mTypeError\u001b[0m                                 Traceback (most recent call last)",
      "Cell \u001b[0;32mIn[41], line 1\u001b[0m\n\u001b[0;32m----> 1\u001b[0m key,key1 \u001b[38;5;241m=\u001b[39m RSA\u001b[38;5;241m.\u001b[39mgenerate(\u001b[38;5;241m1024\u001b[39m)\n",
      "\u001b[0;31mTypeError\u001b[0m: cannot unpack non-iterable RsaKey object"
     ]
    }
   ],
   "source": [
    "key = RSA.generate(1024)"
   ]
  },
  {
   "cell_type": "code",
   "execution_count": 47,
   "metadata": {},
   "outputs": [
    {
     "ename": "AttributeError",
     "evalue": "'RsaKey' object has no attribute 'private_key'",
     "output_type": "error",
     "traceback": [
      "\u001b[0;31m---------------------------------------------------------------------------\u001b[0m",
      "\u001b[0;31mAttributeError\u001b[0m                            Traceback (most recent call last)",
      "Cell \u001b[0;32mIn[47], line 1\u001b[0m\n\u001b[0;32m----> 1\u001b[0m \u001b[43mkey\u001b[49m\u001b[38;5;241;43m.\u001b[39;49m\u001b[43mprivate_key\u001b[49m()\u001b[38;5;241m.\u001b[39mexportKey()\u001b[38;5;241m.\u001b[39mdecode()\n",
      "\u001b[0;31mAttributeError\u001b[0m: 'RsaKey' object has no attribute 'private_key'"
     ]
    }
   ],
   "source": [
    "key.public_key().exportKey().decode()"
   ]
  },
  {
   "cell_type": "code",
   "execution_count": null,
   "metadata": {},
   "outputs": [],
   "source": [
    "key."
   ]
  }
 ],
 "metadata": {
  "kernelspec": {
   "display_name": "Python 3",
   "language": "python",
   "name": "python3"
  },
  "language_info": {
   "codemirror_mode": {
    "name": "ipython",
    "version": 3
   },
   "file_extension": ".py",
   "mimetype": "text/x-python",
   "name": "python",
   "nbconvert_exporter": "python",
   "pygments_lexer": "ipython3",
   "version": "3.9.7"
  }
 },
 "nbformat": 4,
 "nbformat_minor": 2
}
